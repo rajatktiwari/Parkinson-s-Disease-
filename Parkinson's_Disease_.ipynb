{
  "nbformat": 4,
  "nbformat_minor": 0,
  "metadata": {
    "colab": {
      "name": "Parkinson's Disease .ipynb",
      "provenance": [],
      "collapsed_sections": []
    },
    "kernelspec": {
      "name": "python3",
      "display_name": "Python 3"
    }
  },
  "cells": [
    {
      "cell_type": "code",
      "metadata": {
        "id": "UCBZNhVGYEs_"
      },
      "source": [
        "import pandas as pd\n",
        "import numpy as np\n",
        "import seaborn as sns\n",
        "import matplotlib.pyplot as plt\n",
        "%matplotlib inline"
      ],
      "execution_count": 1,
      "outputs": []
    },
    {
      "cell_type": "code",
      "metadata": {
        "id": "DvUkCZY1Yc2J"
      },
      "source": [
        "df = pd.read_csv('https://archive.ics.uci.edu/ml/machine-learning-databases/parkinsons/parkinsons.data')"
      ],
      "execution_count": 2,
      "outputs": []
    },
    {
      "cell_type": "code",
      "metadata": {
        "colab": {
          "base_uri": "https://localhost:8080/",
          "height": 439
        },
        "id": "oYtdUKtbYfBh",
        "outputId": "234f4550-c012-4f4c-a45f-e93b05ab9c8d"
      },
      "source": [
        "df"
      ],
      "execution_count": 3,
      "outputs": [
        {
          "output_type": "execute_result",
          "data": {
            "text/html": [
              "<div>\n",
              "<style scoped>\n",
              "    .dataframe tbody tr th:only-of-type {\n",
              "        vertical-align: middle;\n",
              "    }\n",
              "\n",
              "    .dataframe tbody tr th {\n",
              "        vertical-align: top;\n",
              "    }\n",
              "\n",
              "    .dataframe thead th {\n",
              "        text-align: right;\n",
              "    }\n",
              "</style>\n",
              "<table border=\"1\" class=\"dataframe\">\n",
              "  <thead>\n",
              "    <tr style=\"text-align: right;\">\n",
              "      <th></th>\n",
              "      <th>name</th>\n",
              "      <th>MDVP:Fo(Hz)</th>\n",
              "      <th>MDVP:Fhi(Hz)</th>\n",
              "      <th>MDVP:Flo(Hz)</th>\n",
              "      <th>MDVP:Jitter(%)</th>\n",
              "      <th>MDVP:Jitter(Abs)</th>\n",
              "      <th>MDVP:RAP</th>\n",
              "      <th>MDVP:PPQ</th>\n",
              "      <th>Jitter:DDP</th>\n",
              "      <th>MDVP:Shimmer</th>\n",
              "      <th>MDVP:Shimmer(dB)</th>\n",
              "      <th>Shimmer:APQ3</th>\n",
              "      <th>Shimmer:APQ5</th>\n",
              "      <th>MDVP:APQ</th>\n",
              "      <th>Shimmer:DDA</th>\n",
              "      <th>NHR</th>\n",
              "      <th>HNR</th>\n",
              "      <th>status</th>\n",
              "      <th>RPDE</th>\n",
              "      <th>DFA</th>\n",
              "      <th>spread1</th>\n",
              "      <th>spread2</th>\n",
              "      <th>D2</th>\n",
              "      <th>PPE</th>\n",
              "    </tr>\n",
              "  </thead>\n",
              "  <tbody>\n",
              "    <tr>\n",
              "      <th>0</th>\n",
              "      <td>phon_R01_S01_1</td>\n",
              "      <td>119.992</td>\n",
              "      <td>157.302</td>\n",
              "      <td>74.997</td>\n",
              "      <td>0.00784</td>\n",
              "      <td>0.00007</td>\n",
              "      <td>0.00370</td>\n",
              "      <td>0.00554</td>\n",
              "      <td>0.01109</td>\n",
              "      <td>0.04374</td>\n",
              "      <td>0.426</td>\n",
              "      <td>0.02182</td>\n",
              "      <td>0.03130</td>\n",
              "      <td>0.02971</td>\n",
              "      <td>0.06545</td>\n",
              "      <td>0.02211</td>\n",
              "      <td>21.033</td>\n",
              "      <td>1</td>\n",
              "      <td>0.414783</td>\n",
              "      <td>0.815285</td>\n",
              "      <td>-4.813031</td>\n",
              "      <td>0.266482</td>\n",
              "      <td>2.301442</td>\n",
              "      <td>0.284654</td>\n",
              "    </tr>\n",
              "    <tr>\n",
              "      <th>1</th>\n",
              "      <td>phon_R01_S01_2</td>\n",
              "      <td>122.400</td>\n",
              "      <td>148.650</td>\n",
              "      <td>113.819</td>\n",
              "      <td>0.00968</td>\n",
              "      <td>0.00008</td>\n",
              "      <td>0.00465</td>\n",
              "      <td>0.00696</td>\n",
              "      <td>0.01394</td>\n",
              "      <td>0.06134</td>\n",
              "      <td>0.626</td>\n",
              "      <td>0.03134</td>\n",
              "      <td>0.04518</td>\n",
              "      <td>0.04368</td>\n",
              "      <td>0.09403</td>\n",
              "      <td>0.01929</td>\n",
              "      <td>19.085</td>\n",
              "      <td>1</td>\n",
              "      <td>0.458359</td>\n",
              "      <td>0.819521</td>\n",
              "      <td>-4.075192</td>\n",
              "      <td>0.335590</td>\n",
              "      <td>2.486855</td>\n",
              "      <td>0.368674</td>\n",
              "    </tr>\n",
              "    <tr>\n",
              "      <th>2</th>\n",
              "      <td>phon_R01_S01_3</td>\n",
              "      <td>116.682</td>\n",
              "      <td>131.111</td>\n",
              "      <td>111.555</td>\n",
              "      <td>0.01050</td>\n",
              "      <td>0.00009</td>\n",
              "      <td>0.00544</td>\n",
              "      <td>0.00781</td>\n",
              "      <td>0.01633</td>\n",
              "      <td>0.05233</td>\n",
              "      <td>0.482</td>\n",
              "      <td>0.02757</td>\n",
              "      <td>0.03858</td>\n",
              "      <td>0.03590</td>\n",
              "      <td>0.08270</td>\n",
              "      <td>0.01309</td>\n",
              "      <td>20.651</td>\n",
              "      <td>1</td>\n",
              "      <td>0.429895</td>\n",
              "      <td>0.825288</td>\n",
              "      <td>-4.443179</td>\n",
              "      <td>0.311173</td>\n",
              "      <td>2.342259</td>\n",
              "      <td>0.332634</td>\n",
              "    </tr>\n",
              "    <tr>\n",
              "      <th>3</th>\n",
              "      <td>phon_R01_S01_4</td>\n",
              "      <td>116.676</td>\n",
              "      <td>137.871</td>\n",
              "      <td>111.366</td>\n",
              "      <td>0.00997</td>\n",
              "      <td>0.00009</td>\n",
              "      <td>0.00502</td>\n",
              "      <td>0.00698</td>\n",
              "      <td>0.01505</td>\n",
              "      <td>0.05492</td>\n",
              "      <td>0.517</td>\n",
              "      <td>0.02924</td>\n",
              "      <td>0.04005</td>\n",
              "      <td>0.03772</td>\n",
              "      <td>0.08771</td>\n",
              "      <td>0.01353</td>\n",
              "      <td>20.644</td>\n",
              "      <td>1</td>\n",
              "      <td>0.434969</td>\n",
              "      <td>0.819235</td>\n",
              "      <td>-4.117501</td>\n",
              "      <td>0.334147</td>\n",
              "      <td>2.405554</td>\n",
              "      <td>0.368975</td>\n",
              "    </tr>\n",
              "    <tr>\n",
              "      <th>4</th>\n",
              "      <td>phon_R01_S01_5</td>\n",
              "      <td>116.014</td>\n",
              "      <td>141.781</td>\n",
              "      <td>110.655</td>\n",
              "      <td>0.01284</td>\n",
              "      <td>0.00011</td>\n",
              "      <td>0.00655</td>\n",
              "      <td>0.00908</td>\n",
              "      <td>0.01966</td>\n",
              "      <td>0.06425</td>\n",
              "      <td>0.584</td>\n",
              "      <td>0.03490</td>\n",
              "      <td>0.04825</td>\n",
              "      <td>0.04465</td>\n",
              "      <td>0.10470</td>\n",
              "      <td>0.01767</td>\n",
              "      <td>19.649</td>\n",
              "      <td>1</td>\n",
              "      <td>0.417356</td>\n",
              "      <td>0.823484</td>\n",
              "      <td>-3.747787</td>\n",
              "      <td>0.234513</td>\n",
              "      <td>2.332180</td>\n",
              "      <td>0.410335</td>\n",
              "    </tr>\n",
              "    <tr>\n",
              "      <th>...</th>\n",
              "      <td>...</td>\n",
              "      <td>...</td>\n",
              "      <td>...</td>\n",
              "      <td>...</td>\n",
              "      <td>...</td>\n",
              "      <td>...</td>\n",
              "      <td>...</td>\n",
              "      <td>...</td>\n",
              "      <td>...</td>\n",
              "      <td>...</td>\n",
              "      <td>...</td>\n",
              "      <td>...</td>\n",
              "      <td>...</td>\n",
              "      <td>...</td>\n",
              "      <td>...</td>\n",
              "      <td>...</td>\n",
              "      <td>...</td>\n",
              "      <td>...</td>\n",
              "      <td>...</td>\n",
              "      <td>...</td>\n",
              "      <td>...</td>\n",
              "      <td>...</td>\n",
              "      <td>...</td>\n",
              "      <td>...</td>\n",
              "    </tr>\n",
              "    <tr>\n",
              "      <th>190</th>\n",
              "      <td>phon_R01_S50_2</td>\n",
              "      <td>174.188</td>\n",
              "      <td>230.978</td>\n",
              "      <td>94.261</td>\n",
              "      <td>0.00459</td>\n",
              "      <td>0.00003</td>\n",
              "      <td>0.00263</td>\n",
              "      <td>0.00259</td>\n",
              "      <td>0.00790</td>\n",
              "      <td>0.04087</td>\n",
              "      <td>0.405</td>\n",
              "      <td>0.02336</td>\n",
              "      <td>0.02498</td>\n",
              "      <td>0.02745</td>\n",
              "      <td>0.07008</td>\n",
              "      <td>0.02764</td>\n",
              "      <td>19.517</td>\n",
              "      <td>0</td>\n",
              "      <td>0.448439</td>\n",
              "      <td>0.657899</td>\n",
              "      <td>-6.538586</td>\n",
              "      <td>0.121952</td>\n",
              "      <td>2.657476</td>\n",
              "      <td>0.133050</td>\n",
              "    </tr>\n",
              "    <tr>\n",
              "      <th>191</th>\n",
              "      <td>phon_R01_S50_3</td>\n",
              "      <td>209.516</td>\n",
              "      <td>253.017</td>\n",
              "      <td>89.488</td>\n",
              "      <td>0.00564</td>\n",
              "      <td>0.00003</td>\n",
              "      <td>0.00331</td>\n",
              "      <td>0.00292</td>\n",
              "      <td>0.00994</td>\n",
              "      <td>0.02751</td>\n",
              "      <td>0.263</td>\n",
              "      <td>0.01604</td>\n",
              "      <td>0.01657</td>\n",
              "      <td>0.01879</td>\n",
              "      <td>0.04812</td>\n",
              "      <td>0.01810</td>\n",
              "      <td>19.147</td>\n",
              "      <td>0</td>\n",
              "      <td>0.431674</td>\n",
              "      <td>0.683244</td>\n",
              "      <td>-6.195325</td>\n",
              "      <td>0.129303</td>\n",
              "      <td>2.784312</td>\n",
              "      <td>0.168895</td>\n",
              "    </tr>\n",
              "    <tr>\n",
              "      <th>192</th>\n",
              "      <td>phon_R01_S50_4</td>\n",
              "      <td>174.688</td>\n",
              "      <td>240.005</td>\n",
              "      <td>74.287</td>\n",
              "      <td>0.01360</td>\n",
              "      <td>0.00008</td>\n",
              "      <td>0.00624</td>\n",
              "      <td>0.00564</td>\n",
              "      <td>0.01873</td>\n",
              "      <td>0.02308</td>\n",
              "      <td>0.256</td>\n",
              "      <td>0.01268</td>\n",
              "      <td>0.01365</td>\n",
              "      <td>0.01667</td>\n",
              "      <td>0.03804</td>\n",
              "      <td>0.10715</td>\n",
              "      <td>17.883</td>\n",
              "      <td>0</td>\n",
              "      <td>0.407567</td>\n",
              "      <td>0.655683</td>\n",
              "      <td>-6.787197</td>\n",
              "      <td>0.158453</td>\n",
              "      <td>2.679772</td>\n",
              "      <td>0.131728</td>\n",
              "    </tr>\n",
              "    <tr>\n",
              "      <th>193</th>\n",
              "      <td>phon_R01_S50_5</td>\n",
              "      <td>198.764</td>\n",
              "      <td>396.961</td>\n",
              "      <td>74.904</td>\n",
              "      <td>0.00740</td>\n",
              "      <td>0.00004</td>\n",
              "      <td>0.00370</td>\n",
              "      <td>0.00390</td>\n",
              "      <td>0.01109</td>\n",
              "      <td>0.02296</td>\n",
              "      <td>0.241</td>\n",
              "      <td>0.01265</td>\n",
              "      <td>0.01321</td>\n",
              "      <td>0.01588</td>\n",
              "      <td>0.03794</td>\n",
              "      <td>0.07223</td>\n",
              "      <td>19.020</td>\n",
              "      <td>0</td>\n",
              "      <td>0.451221</td>\n",
              "      <td>0.643956</td>\n",
              "      <td>-6.744577</td>\n",
              "      <td>0.207454</td>\n",
              "      <td>2.138608</td>\n",
              "      <td>0.123306</td>\n",
              "    </tr>\n",
              "    <tr>\n",
              "      <th>194</th>\n",
              "      <td>phon_R01_S50_6</td>\n",
              "      <td>214.289</td>\n",
              "      <td>260.277</td>\n",
              "      <td>77.973</td>\n",
              "      <td>0.00567</td>\n",
              "      <td>0.00003</td>\n",
              "      <td>0.00295</td>\n",
              "      <td>0.00317</td>\n",
              "      <td>0.00885</td>\n",
              "      <td>0.01884</td>\n",
              "      <td>0.190</td>\n",
              "      <td>0.01026</td>\n",
              "      <td>0.01161</td>\n",
              "      <td>0.01373</td>\n",
              "      <td>0.03078</td>\n",
              "      <td>0.04398</td>\n",
              "      <td>21.209</td>\n",
              "      <td>0</td>\n",
              "      <td>0.462803</td>\n",
              "      <td>0.664357</td>\n",
              "      <td>-5.724056</td>\n",
              "      <td>0.190667</td>\n",
              "      <td>2.555477</td>\n",
              "      <td>0.148569</td>\n",
              "    </tr>\n",
              "  </tbody>\n",
              "</table>\n",
              "<p>195 rows × 24 columns</p>\n",
              "</div>"
            ],
            "text/plain": [
              "               name  MDVP:Fo(Hz)  MDVP:Fhi(Hz)  ...   spread2        D2       PPE\n",
              "0    phon_R01_S01_1      119.992       157.302  ...  0.266482  2.301442  0.284654\n",
              "1    phon_R01_S01_2      122.400       148.650  ...  0.335590  2.486855  0.368674\n",
              "2    phon_R01_S01_3      116.682       131.111  ...  0.311173  2.342259  0.332634\n",
              "3    phon_R01_S01_4      116.676       137.871  ...  0.334147  2.405554  0.368975\n",
              "4    phon_R01_S01_5      116.014       141.781  ...  0.234513  2.332180  0.410335\n",
              "..              ...          ...           ...  ...       ...       ...       ...\n",
              "190  phon_R01_S50_2      174.188       230.978  ...  0.121952  2.657476  0.133050\n",
              "191  phon_R01_S50_3      209.516       253.017  ...  0.129303  2.784312  0.168895\n",
              "192  phon_R01_S50_4      174.688       240.005  ...  0.158453  2.679772  0.131728\n",
              "193  phon_R01_S50_5      198.764       396.961  ...  0.207454  2.138608  0.123306\n",
              "194  phon_R01_S50_6      214.289       260.277  ...  0.190667  2.555477  0.148569\n",
              "\n",
              "[195 rows x 24 columns]"
            ]
          },
          "metadata": {
            "tags": []
          },
          "execution_count": 3
        }
      ]
    },
    {
      "cell_type": "code",
      "metadata": {
        "colab": {
          "base_uri": "https://localhost:8080/"
        },
        "id": "zFkBZGfjYiao",
        "outputId": "8c2f7f63-9609-49f6-acb1-8f45023f971b"
      },
      "source": [
        "df.info()"
      ],
      "execution_count": 4,
      "outputs": [
        {
          "output_type": "stream",
          "text": [
            "<class 'pandas.core.frame.DataFrame'>\n",
            "RangeIndex: 195 entries, 0 to 194\n",
            "Data columns (total 24 columns):\n",
            " #   Column            Non-Null Count  Dtype  \n",
            "---  ------            --------------  -----  \n",
            " 0   name              195 non-null    object \n",
            " 1   MDVP:Fo(Hz)       195 non-null    float64\n",
            " 2   MDVP:Fhi(Hz)      195 non-null    float64\n",
            " 3   MDVP:Flo(Hz)      195 non-null    float64\n",
            " 4   MDVP:Jitter(%)    195 non-null    float64\n",
            " 5   MDVP:Jitter(Abs)  195 non-null    float64\n",
            " 6   MDVP:RAP          195 non-null    float64\n",
            " 7   MDVP:PPQ          195 non-null    float64\n",
            " 8   Jitter:DDP        195 non-null    float64\n",
            " 9   MDVP:Shimmer      195 non-null    float64\n",
            " 10  MDVP:Shimmer(dB)  195 non-null    float64\n",
            " 11  Shimmer:APQ3      195 non-null    float64\n",
            " 12  Shimmer:APQ5      195 non-null    float64\n",
            " 13  MDVP:APQ          195 non-null    float64\n",
            " 14  Shimmer:DDA       195 non-null    float64\n",
            " 15  NHR               195 non-null    float64\n",
            " 16  HNR               195 non-null    float64\n",
            " 17  status            195 non-null    int64  \n",
            " 18  RPDE              195 non-null    float64\n",
            " 19  DFA               195 non-null    float64\n",
            " 20  spread1           195 non-null    float64\n",
            " 21  spread2           195 non-null    float64\n",
            " 22  D2                195 non-null    float64\n",
            " 23  PPE               195 non-null    float64\n",
            "dtypes: float64(22), int64(1), object(1)\n",
            "memory usage: 36.7+ KB\n"
          ],
          "name": "stdout"
        }
      ]
    },
    {
      "cell_type": "code",
      "metadata": {
        "id": "bcnSW1poYnxl"
      },
      "source": [
        "X = df.drop('status', axis=1)\n",
        "X = X.drop('name', axis=1)\n",
        "y = df['status']"
      ],
      "execution_count": 6,
      "outputs": []
    },
    {
      "cell_type": "code",
      "metadata": {
        "colab": {
          "base_uri": "https://localhost:8080/"
        },
        "id": "D7VjAWzlYwzJ",
        "outputId": "084b9aed-f8a2-4539-bb45-29c44393beed"
      },
      "source": [
        "df.groupby(['status']).size()"
      ],
      "execution_count": 8,
      "outputs": [
        {
          "output_type": "execute_result",
          "data": {
            "text/plain": [
              "status\n",
              "0     48\n",
              "1    147\n",
              "dtype: int64"
            ]
          },
          "metadata": {
            "tags": []
          },
          "execution_count": 8
        }
      ]
    },
    {
      "cell_type": "code",
      "metadata": {
        "colab": {
          "base_uri": "https://localhost:8080/",
          "height": 762
        },
        "id": "4hCnkDqSY29g",
        "outputId": "9da55ffb-048a-4d60-e5c7-1821dc26b6b2"
      },
      "source": [
        "df.describe().transpose()"
      ],
      "execution_count": 10,
      "outputs": [
        {
          "output_type": "execute_result",
          "data": {
            "text/html": [
              "<div>\n",
              "<style scoped>\n",
              "    .dataframe tbody tr th:only-of-type {\n",
              "        vertical-align: middle;\n",
              "    }\n",
              "\n",
              "    .dataframe tbody tr th {\n",
              "        vertical-align: top;\n",
              "    }\n",
              "\n",
              "    .dataframe thead th {\n",
              "        text-align: right;\n",
              "    }\n",
              "</style>\n",
              "<table border=\"1\" class=\"dataframe\">\n",
              "  <thead>\n",
              "    <tr style=\"text-align: right;\">\n",
              "      <th></th>\n",
              "      <th>count</th>\n",
              "      <th>mean</th>\n",
              "      <th>std</th>\n",
              "      <th>min</th>\n",
              "      <th>25%</th>\n",
              "      <th>50%</th>\n",
              "      <th>75%</th>\n",
              "      <th>max</th>\n",
              "    </tr>\n",
              "  </thead>\n",
              "  <tbody>\n",
              "    <tr>\n",
              "      <th>MDVP:Fo(Hz)</th>\n",
              "      <td>195.0</td>\n",
              "      <td>154.228641</td>\n",
              "      <td>41.390065</td>\n",
              "      <td>88.333000</td>\n",
              "      <td>117.572000</td>\n",
              "      <td>148.790000</td>\n",
              "      <td>182.769000</td>\n",
              "      <td>260.105000</td>\n",
              "    </tr>\n",
              "    <tr>\n",
              "      <th>MDVP:Fhi(Hz)</th>\n",
              "      <td>195.0</td>\n",
              "      <td>197.104918</td>\n",
              "      <td>91.491548</td>\n",
              "      <td>102.145000</td>\n",
              "      <td>134.862500</td>\n",
              "      <td>175.829000</td>\n",
              "      <td>224.205500</td>\n",
              "      <td>592.030000</td>\n",
              "    </tr>\n",
              "    <tr>\n",
              "      <th>MDVP:Flo(Hz)</th>\n",
              "      <td>195.0</td>\n",
              "      <td>116.324631</td>\n",
              "      <td>43.521413</td>\n",
              "      <td>65.476000</td>\n",
              "      <td>84.291000</td>\n",
              "      <td>104.315000</td>\n",
              "      <td>140.018500</td>\n",
              "      <td>239.170000</td>\n",
              "    </tr>\n",
              "    <tr>\n",
              "      <th>MDVP:Jitter(%)</th>\n",
              "      <td>195.0</td>\n",
              "      <td>0.006220</td>\n",
              "      <td>0.004848</td>\n",
              "      <td>0.001680</td>\n",
              "      <td>0.003460</td>\n",
              "      <td>0.004940</td>\n",
              "      <td>0.007365</td>\n",
              "      <td>0.033160</td>\n",
              "    </tr>\n",
              "    <tr>\n",
              "      <th>MDVP:Jitter(Abs)</th>\n",
              "      <td>195.0</td>\n",
              "      <td>0.000044</td>\n",
              "      <td>0.000035</td>\n",
              "      <td>0.000007</td>\n",
              "      <td>0.000020</td>\n",
              "      <td>0.000030</td>\n",
              "      <td>0.000060</td>\n",
              "      <td>0.000260</td>\n",
              "    </tr>\n",
              "    <tr>\n",
              "      <th>MDVP:RAP</th>\n",
              "      <td>195.0</td>\n",
              "      <td>0.003306</td>\n",
              "      <td>0.002968</td>\n",
              "      <td>0.000680</td>\n",
              "      <td>0.001660</td>\n",
              "      <td>0.002500</td>\n",
              "      <td>0.003835</td>\n",
              "      <td>0.021440</td>\n",
              "    </tr>\n",
              "    <tr>\n",
              "      <th>MDVP:PPQ</th>\n",
              "      <td>195.0</td>\n",
              "      <td>0.003446</td>\n",
              "      <td>0.002759</td>\n",
              "      <td>0.000920</td>\n",
              "      <td>0.001860</td>\n",
              "      <td>0.002690</td>\n",
              "      <td>0.003955</td>\n",
              "      <td>0.019580</td>\n",
              "    </tr>\n",
              "    <tr>\n",
              "      <th>Jitter:DDP</th>\n",
              "      <td>195.0</td>\n",
              "      <td>0.009920</td>\n",
              "      <td>0.008903</td>\n",
              "      <td>0.002040</td>\n",
              "      <td>0.004985</td>\n",
              "      <td>0.007490</td>\n",
              "      <td>0.011505</td>\n",
              "      <td>0.064330</td>\n",
              "    </tr>\n",
              "    <tr>\n",
              "      <th>MDVP:Shimmer</th>\n",
              "      <td>195.0</td>\n",
              "      <td>0.029709</td>\n",
              "      <td>0.018857</td>\n",
              "      <td>0.009540</td>\n",
              "      <td>0.016505</td>\n",
              "      <td>0.022970</td>\n",
              "      <td>0.037885</td>\n",
              "      <td>0.119080</td>\n",
              "    </tr>\n",
              "    <tr>\n",
              "      <th>MDVP:Shimmer(dB)</th>\n",
              "      <td>195.0</td>\n",
              "      <td>0.282251</td>\n",
              "      <td>0.194877</td>\n",
              "      <td>0.085000</td>\n",
              "      <td>0.148500</td>\n",
              "      <td>0.221000</td>\n",
              "      <td>0.350000</td>\n",
              "      <td>1.302000</td>\n",
              "    </tr>\n",
              "    <tr>\n",
              "      <th>Shimmer:APQ3</th>\n",
              "      <td>195.0</td>\n",
              "      <td>0.015664</td>\n",
              "      <td>0.010153</td>\n",
              "      <td>0.004550</td>\n",
              "      <td>0.008245</td>\n",
              "      <td>0.012790</td>\n",
              "      <td>0.020265</td>\n",
              "      <td>0.056470</td>\n",
              "    </tr>\n",
              "    <tr>\n",
              "      <th>Shimmer:APQ5</th>\n",
              "      <td>195.0</td>\n",
              "      <td>0.017878</td>\n",
              "      <td>0.012024</td>\n",
              "      <td>0.005700</td>\n",
              "      <td>0.009580</td>\n",
              "      <td>0.013470</td>\n",
              "      <td>0.022380</td>\n",
              "      <td>0.079400</td>\n",
              "    </tr>\n",
              "    <tr>\n",
              "      <th>MDVP:APQ</th>\n",
              "      <td>195.0</td>\n",
              "      <td>0.024081</td>\n",
              "      <td>0.016947</td>\n",
              "      <td>0.007190</td>\n",
              "      <td>0.013080</td>\n",
              "      <td>0.018260</td>\n",
              "      <td>0.029400</td>\n",
              "      <td>0.137780</td>\n",
              "    </tr>\n",
              "    <tr>\n",
              "      <th>Shimmer:DDA</th>\n",
              "      <td>195.0</td>\n",
              "      <td>0.046993</td>\n",
              "      <td>0.030459</td>\n",
              "      <td>0.013640</td>\n",
              "      <td>0.024735</td>\n",
              "      <td>0.038360</td>\n",
              "      <td>0.060795</td>\n",
              "      <td>0.169420</td>\n",
              "    </tr>\n",
              "    <tr>\n",
              "      <th>NHR</th>\n",
              "      <td>195.0</td>\n",
              "      <td>0.024847</td>\n",
              "      <td>0.040418</td>\n",
              "      <td>0.000650</td>\n",
              "      <td>0.005925</td>\n",
              "      <td>0.011660</td>\n",
              "      <td>0.025640</td>\n",
              "      <td>0.314820</td>\n",
              "    </tr>\n",
              "    <tr>\n",
              "      <th>HNR</th>\n",
              "      <td>195.0</td>\n",
              "      <td>21.885974</td>\n",
              "      <td>4.425764</td>\n",
              "      <td>8.441000</td>\n",
              "      <td>19.198000</td>\n",
              "      <td>22.085000</td>\n",
              "      <td>25.075500</td>\n",
              "      <td>33.047000</td>\n",
              "    </tr>\n",
              "    <tr>\n",
              "      <th>status</th>\n",
              "      <td>195.0</td>\n",
              "      <td>0.753846</td>\n",
              "      <td>0.431878</td>\n",
              "      <td>0.000000</td>\n",
              "      <td>1.000000</td>\n",
              "      <td>1.000000</td>\n",
              "      <td>1.000000</td>\n",
              "      <td>1.000000</td>\n",
              "    </tr>\n",
              "    <tr>\n",
              "      <th>RPDE</th>\n",
              "      <td>195.0</td>\n",
              "      <td>0.498536</td>\n",
              "      <td>0.103942</td>\n",
              "      <td>0.256570</td>\n",
              "      <td>0.421306</td>\n",
              "      <td>0.495954</td>\n",
              "      <td>0.587562</td>\n",
              "      <td>0.685151</td>\n",
              "    </tr>\n",
              "    <tr>\n",
              "      <th>DFA</th>\n",
              "      <td>195.0</td>\n",
              "      <td>0.718099</td>\n",
              "      <td>0.055336</td>\n",
              "      <td>0.574282</td>\n",
              "      <td>0.674758</td>\n",
              "      <td>0.722254</td>\n",
              "      <td>0.761881</td>\n",
              "      <td>0.825288</td>\n",
              "    </tr>\n",
              "    <tr>\n",
              "      <th>spread1</th>\n",
              "      <td>195.0</td>\n",
              "      <td>-5.684397</td>\n",
              "      <td>1.090208</td>\n",
              "      <td>-7.964984</td>\n",
              "      <td>-6.450096</td>\n",
              "      <td>-5.720868</td>\n",
              "      <td>-5.046192</td>\n",
              "      <td>-2.434031</td>\n",
              "    </tr>\n",
              "    <tr>\n",
              "      <th>spread2</th>\n",
              "      <td>195.0</td>\n",
              "      <td>0.226510</td>\n",
              "      <td>0.083406</td>\n",
              "      <td>0.006274</td>\n",
              "      <td>0.174351</td>\n",
              "      <td>0.218885</td>\n",
              "      <td>0.279234</td>\n",
              "      <td>0.450493</td>\n",
              "    </tr>\n",
              "    <tr>\n",
              "      <th>D2</th>\n",
              "      <td>195.0</td>\n",
              "      <td>2.381826</td>\n",
              "      <td>0.382799</td>\n",
              "      <td>1.423287</td>\n",
              "      <td>2.099125</td>\n",
              "      <td>2.361532</td>\n",
              "      <td>2.636456</td>\n",
              "      <td>3.671155</td>\n",
              "    </tr>\n",
              "    <tr>\n",
              "      <th>PPE</th>\n",
              "      <td>195.0</td>\n",
              "      <td>0.206552</td>\n",
              "      <td>0.090119</td>\n",
              "      <td>0.044539</td>\n",
              "      <td>0.137451</td>\n",
              "      <td>0.194052</td>\n",
              "      <td>0.252980</td>\n",
              "      <td>0.527367</td>\n",
              "    </tr>\n",
              "  </tbody>\n",
              "</table>\n",
              "</div>"
            ],
            "text/plain": [
              "                  count        mean  ...         75%         max\n",
              "MDVP:Fo(Hz)       195.0  154.228641  ...  182.769000  260.105000\n",
              "MDVP:Fhi(Hz)      195.0  197.104918  ...  224.205500  592.030000\n",
              "MDVP:Flo(Hz)      195.0  116.324631  ...  140.018500  239.170000\n",
              "MDVP:Jitter(%)    195.0    0.006220  ...    0.007365    0.033160\n",
              "MDVP:Jitter(Abs)  195.0    0.000044  ...    0.000060    0.000260\n",
              "MDVP:RAP          195.0    0.003306  ...    0.003835    0.021440\n",
              "MDVP:PPQ          195.0    0.003446  ...    0.003955    0.019580\n",
              "Jitter:DDP        195.0    0.009920  ...    0.011505    0.064330\n",
              "MDVP:Shimmer      195.0    0.029709  ...    0.037885    0.119080\n",
              "MDVP:Shimmer(dB)  195.0    0.282251  ...    0.350000    1.302000\n",
              "Shimmer:APQ3      195.0    0.015664  ...    0.020265    0.056470\n",
              "Shimmer:APQ5      195.0    0.017878  ...    0.022380    0.079400\n",
              "MDVP:APQ          195.0    0.024081  ...    0.029400    0.137780\n",
              "Shimmer:DDA       195.0    0.046993  ...    0.060795    0.169420\n",
              "NHR               195.0    0.024847  ...    0.025640    0.314820\n",
              "HNR               195.0   21.885974  ...   25.075500   33.047000\n",
              "status            195.0    0.753846  ...    1.000000    1.000000\n",
              "RPDE              195.0    0.498536  ...    0.587562    0.685151\n",
              "DFA               195.0    0.718099  ...    0.761881    0.825288\n",
              "spread1           195.0   -5.684397  ...   -5.046192   -2.434031\n",
              "spread2           195.0    0.226510  ...    0.279234    0.450493\n",
              "D2                195.0    2.381826  ...    2.636456    3.671155\n",
              "PPE               195.0    0.206552  ...    0.252980    0.527367\n",
              "\n",
              "[23 rows x 8 columns]"
            ]
          },
          "metadata": {
            "tags": []
          },
          "execution_count": 10
        }
      ]
    },
    {
      "cell_type": "code",
      "metadata": {
        "colab": {
          "base_uri": "https://localhost:8080/"
        },
        "id": "8PaPW_wMY8GF",
        "outputId": "ef7eab6e-2c90-46d8-b99b-ba5fdb87e062"
      },
      "source": [
        "X.columns"
      ],
      "execution_count": 11,
      "outputs": [
        {
          "output_type": "execute_result",
          "data": {
            "text/plain": [
              "Index(['MDVP:Fo(Hz)', 'MDVP:Fhi(Hz)', 'MDVP:Flo(Hz)', 'MDVP:Jitter(%)',\n",
              "       'MDVP:Jitter(Abs)', 'MDVP:RAP', 'MDVP:PPQ', 'Jitter:DDP',\n",
              "       'MDVP:Shimmer', 'MDVP:Shimmer(dB)', 'Shimmer:APQ3', 'Shimmer:APQ5',\n",
              "       'MDVP:APQ', 'Shimmer:DDA', 'NHR', 'HNR', 'RPDE', 'DFA', 'spread1',\n",
              "       'spread2', 'D2', 'PPE'],\n",
              "      dtype='object')"
            ]
          },
          "metadata": {
            "tags": []
          },
          "execution_count": 11
        }
      ]
    },
    {
      "cell_type": "code",
      "metadata": {
        "colab": {
          "base_uri": "https://localhost:8080/",
          "height": 1000
        },
        "id": "OmZElVDzZDW3",
        "outputId": "46ab4a31-d9d3-4692-b39c-dc1095fe6d65"
      },
      "source": [
        "boxplot = X.boxplot(figsize=(40,40))"
      ],
      "execution_count": 12,
      "outputs": [
        {
          "output_type": "display_data",
          "data": {
            "image/png": "[encoded data removed]",
            "text/plain": [
              "<Figure size 2880x2880 with 1 Axes>"
            ]
          },
          "metadata": {
            "tags": [],
            "needs_background": "light"
          }
        }
      ]
    },
    {
      "cell_type": "code",
      "metadata": {
        "colab": {
          "base_uri": "https://localhost:8080/"
        },
        "id": "DERomdlwZPEy",
        "outputId": "61dc4542-4e8b-4684-e7bc-36c7732739a2"
      },
      "source": [
        "\n",
        "df.isnull().values.any()"
      ],
      "execution_count": 13,
      "outputs": [
        {
          "output_type": "execute_result",
          "data": {
            "text/plain": [
              "False"
            ]
          },
          "metadata": {
            "tags": []
          },
          "execution_count": 13
        }
      ]
    },
    {
      "cell_type": "code",
      "metadata": {
        "colab": {
          "base_uri": "https://localhost:8080/",
          "height": 1000
        },
        "id": "Wb5vOyYdZU2h",
        "outputId": "ce45c78c-2242-4755-b5c3-60d7d03ba5d1"
      },
      "source": [
        "df.hist(figsize=(15,20),bins = 50,xlabelsize=8,ylabelsize =8)\n",
        "plt.show()"
      ],
      "execution_count": 14,
      "outputs": [
        {
          "output_type": "display_data",
          "data": {
            "image/png": "[encoded data removed]",
            "text/plain": [
              "<Figure size 1080x1440 with 25 Axes>"
            ]
          },
          "metadata": {
            "tags": [],
            "needs_background": "light"
          }
        }
      ]
    },
    {
      "cell_type": "code",
      "metadata": {
        "colab": {
          "base_uri": "https://localhost:8080/",
          "height": 1000
        },
        "id": "mGT7FE-7Zk7j",
        "outputId": "f70d2578-26f9-414a-d7ab-dbe3a9dc8678"
      },
      "source": [
        "sns.boxplot(x=\"status\", y=\"MDVP:Fo(Hz)\", hue=\"status\", data=df, palette=\"PRGn\")\n",
        "plt.show()\n",
        "\n",
        "sns.boxplot(x=\"status\", y=\"MDVP:Fhi(Hz)\", hue=\"status\", data=df, palette=\"PRGn\")\n",
        "plt.show()\n",
        "\n",
        "sns.boxplot(x=\"status\", y=\"MDVP:Flo(Hz)\", hue=\"status\", data=df, palette=\"PRGn\")\n",
        "plt.show()\n",
        "\n",
        "sns.boxplot(x=\"status\", y=\"MDVP:Jitter(%)\", hue=\"status\", data=df, palette=\"PRGn\")\n",
        "plt.show()\n",
        "\n",
        "sns.boxplot(x=\"status\", y=\"MDVP:Jitter(Abs)\", hue=\"status\", data=df, palette=\"PRGn\")\n",
        "plt.show()\n",
        "\n",
        "sns.boxplot(x=\"status\", y=\"MDVP:RAP\", hue=\"status\", data=df, palette=\"PRGn\")\n",
        "plt.show()\n",
        "\n",
        "sns.boxplot(x=\"status\", y=\"MDVP:PPQ\", hue=\"status\", data=df, palette=\"PRGn\")\n",
        "plt.show()\n",
        "\n",
        "sns.boxplot(x=\"status\", y=\"Jitter:DDP\", hue=\"status\", data=df, palette=\"PRGn\")\n",
        "plt.show()\n",
        "\n",
        "sns.boxplot(x=\"status\", y=\"MDVP:Shimmer\", hue=\"status\", data=df, palette=\"PRGn\")\n",
        "plt.show()\n",
        "\n",
        "sns.boxplot(x=\"status\", y=\"MDVP:Shimmer(dB)\", hue=\"status\", data=df, palette=\"PRGn\")\n",
        "plt.show()\n",
        "\n",
        "sns.boxplot(x=\"status\", y=\"Shimmer:APQ3\", hue=\"status\", data=df, palette=\"PRGn\")\n",
        "plt.show()\n",
        "\n",
        "sns.boxplot(x=\"status\", y=\"Shimmer:APQ5\", hue=\"status\", data=df, palette=\"PRGn\")\n",
        "plt.show()\n",
        "\n",
        "sns.boxplot(x=\"status\", y=\"MDVP:APQ\", hue=\"status\", data=df, palette=\"PRGn\")\n",
        "plt.show()\n",
        "\n",
        "sns.boxplot(x=\"status\", y=\"Shimmer:DDA\", hue=\"status\", data=df, palette=\"PRGn\")\n",
        "plt.show()\n",
        "\n",
        "sns.boxplot(x=\"status\", y=\"NHR\", hue=\"status\", data=df, palette=\"PRGn\")\n",
        "plt.show()\n",
        "\n",
        "sns.boxplot(x=\"status\", y=\"HNR\", hue=\"status\", data=df, palette=\"PRGn\")\n",
        "plt.show()\n",
        "\n",
        "sns.boxplot(x=\"status\", y=\"RPDE\", hue=\"status\", data=df, palette=\"PRGn\")\n",
        "plt.show()\n",
        "\n",
        "sns.boxplot(x=\"status\", y=\"DFA\", hue=\"status\", data=df, palette=\"PRGn\")\n",
        "plt.show()\n",
        "\n",
        "sns.boxplot(x=\"status\", y=\"spread1\", hue=\"status\", data=df, palette=\"PRGn\")\n",
        "plt.show()\n",
        "\n",
        "sns.boxplot(x=\"status\", y=\"spread2\", hue=\"status\", data=df, palette=\"PRGn\")\n",
        "plt.show()\n",
        "\n",
        "\n",
        "sns.boxplot(x=\"status\", y=\"D2\", hue=\"status\", data=df, palette=\"PRGn\")\n",
        "plt.show()\n",
        "\n",
        "sns.boxplot(x=\"status\", y=\"D2\", hue=\"status\", data=df, palette=\"PRGn\")\n",
        "plt.show()"
      ],
      "execution_count": 15,
      "outputs": [
        {
          "output_type": "display_data",
          "data": {
            "image/png": "[encoded data removed]",
            "text/plain": [
              "<Figure size 432x288 with 1 Axes>"
            ]
          },
          "metadata": {
            "tags": [],
            "needs_background": "light"
          }
        },
        {
          "output_type": "display_data",
          "data": {
            "image/png": "[encoded data removed]",
            "text/plain": [
              "<Figure size 432x288 with 1 Axes>"
            ]
          },
          "metadata": {
            "tags": [],
            "needs_background": "light"
          }
        },
        {
          "output_type": "display_data",
          "data": {
            "image/png": "[encoded data removed]",
            "text/plain": [
              "<Figure size 432x288 with 1 Axes>"
            ]
          },
          "metadata": {
            "tags": [],
            "needs_background": "light"
          }
        },
        {
          "output_type": "display_data",
          "data": {
            "image/png": "[encoded data removed]",
            "text/plain": [
              "<Figure size 432x288 with 1 Axes>"
            ]
          },
          "metadata": {
            "tags": [],
            "needs_background": "light"
          }
        },
        {
          "output_type": "display_data",
          "data": {
            "image/png": "[encoded data removed]",
            "text/plain": [
              "<Figure size 432x288 with 1 Axes>"
            ]
          },
          "metadata": {
            "tags": [],
            "needs_background": "light"
          }
        },
        {
          "output_type": "display_data",
          "data": {
            "image/png": "[encoded data removed]",
            "text/plain": [
              "<Figure size 432x288 with 1 Axes>"
            ]
          },
          "metadata": {
            "tags": [],
            "needs_background": "light"
          }
        },
        {
          "output_type": "display_data",
          "data": {
            "image/png": "[encoded data removed]",
            "text/plain": [
              "<Figure size 432x288 with 1 Axes>"
            ]
          },
          "metadata": {
            "tags": [],
            "needs_background": "light"
          }
        },
        {
          "output_type": "display_data",
          "data": {
            "image/png": "[encoded data removed]",
            "text/plain": [
              "<Figure size 432x288 with 1 Axes>"
            ]
          },
          "metadata": {
            "tags": [],
            "needs_background": "light"
          }
        },
        {
          "output_type": "display_data",
          "data": {
            "image/png": "[encoded data removed]",
            "text/plain": [
              "<Figure size 432x288 with 1 Axes>"
            ]
          },
          "metadata": {
            "tags": [],
            "needs_background": "light"
          }
        },
        {
          "output_type": "display_data",
          "data": {
            "image/png": "[encoded data removed]",
            "text/plain": [
              "<Figure size 432x288 with 1 Axes>"
            ]
          },
          "metadata": {
            "tags": [],
            "needs_background": "light"
          }
        },
        {
          "output_type": "display_data",
          "data": {
            "image/png": "[encoded data removed]",
            "text/plain": [
              "<Figure size 432x288 with 1 Axes>"
            ]
          },
          "metadata": {
            "tags": [],
            "needs_background": "light"
          }
        },
        {
          "output_type": "display_data",
          "data": {
            "image/png": "[encoded data removed]",
            "text/plain": [
              "<Figure size 432x288 with 1 Axes>"
            ]
          },
          "metadata": {
            "tags": [],
            "needs_background": "light"
          }
        },
        {
          "output_type": "display_data",
          "data": {
            "image/png": "[encoded data removed]",
            "text/plain": [
              "<Figure size 432x288 with 1 Axes>"
            ]
          },
          "metadata": {
            "tags": [],
            "needs_background": "light"
          }
        },
        {
          "output_type": "display_data",
          "data": {
            "image/png": "[encoded data removed]",
            "text/plain": [
              "<Figure size 432x288 with 1 Axes>"
            ]
          },
          "metadata": {
            "tags": [],
            "needs_background": "light"
          }
        },
        {
          "output_type": "display_data",
          "data": {
            "image/png": "[encoded data removed]",
            "text/plain": [
              "<Figure size 432x288 with 1 Axes>"
            ]
          },
          "metadata": {
            "tags": [],
            "needs_background": "light"
          }
        },
        {
          "output_type": "display_data",
          "data": {
            "image/png": "[encoded data removed]",
            "text/plain": [
              "<Figure size 432x288 with 1 Axes>"
            ]
          },
          "metadata": {
            "tags": [],
            "needs_background": "light"
          }
        },
        {
          "output_type": "display_data",
          "data": {
            "image/png": "[encoded data removed]",
            "text/plain": [
              "<Figure size 432x288 with 1 Axes>"
            ]
          },
          "metadata": {
            "tags": [],
            "needs_background": "light"
          }
        },
        {
          "output_type": "display_data",
          "data": {
            "image/png": "[encoded data removed]",
            "text/plain": [
              "<Figure size 432x288 with 1 Axes>"
            ]
          },
          "metadata": {
            "tags": [],
            "needs_background": "light"
          }
        },
        {
          "output_type": "display_data",
          "data": {
            "image/png": "[encoded data removed]",
            "text/plain": [
              "<Figure size 432x288 with 1 Axes>"
            ]
          },
          "metadata": {
            "tags": [],
            "needs_background": "light"
          }
        },
        {
          "output_type": "display_data",
          "data": {
            "image/png": "[encoded data removed]",
            "text/plain": [
              "<Figure size 432x288 with 1 Axes>"
            ]
          },
          "metadata": {
            "tags": [],
            "needs_background": "light"
          }
        },
        {
          "output_type": "display_data",
          "data": {
            "image/png": "[encoded data removed]",
            "text/plain": [
              "<Figure size 432x288 with 1 Axes>"
            ]
          },
          "metadata": {
            "tags": [],
            "needs_background": "light"
          }
        },
        {
          "output_type": "display_data",
          "data": {
            "image/png": "[encoded data removed]",
            "text/plain": [
              "<Figure size 432x288 with 1 Axes>"
            ]
          },
          "metadata": {
            "tags": [],
            "needs_background": "light"
          }
        }
      ]
    },
    {
      "cell_type": "code",
      "metadata": {
        "colab": {
          "base_uri": "https://localhost:8080/",
          "height": 782
        },
        "id": "0C7-Pz0oZt18",
        "outputId": "7cccc8a1-e542-413f-c2e7-3a42037510ea"
      },
      "source": [
        "df.corr()"
      ],
      "execution_count": 16,
      "outputs": [
        {
          "output_type": "execute_result",
          "data": {
            "text/html": [
              "<div>\n",
              "<style scoped>\n",
              "    .dataframe tbody tr th:only-of-type {\n",
              "        vertical-align: middle;\n",
              "    }\n",
              "\n",
              "    .dataframe tbody tr th {\n",
              "        vertical-align: top;\n",
              "    }\n",
              "\n",
              "    .dataframe thead th {\n",
              "        text-align: right;\n",
              "    }\n",
              "</style>\n",
              "<table border=\"1\" class=\"dataframe\">\n",
              "  <thead>\n",
              "    <tr style=\"text-align: right;\">\n",
              "      <th></th>\n",
              "      <th>MDVP:Fo(Hz)</th>\n",
              "      <th>MDVP:Fhi(Hz)</th>\n",
              "      <th>MDVP:Flo(Hz)</th>\n",
              "      <th>MDVP:Jitter(%)</th>\n",
              "      <th>MDVP:Jitter(Abs)</th>\n",
              "      <th>MDVP:RAP</th>\n",
              "      <th>MDVP:PPQ</th>\n",
              "      <th>Jitter:DDP</th>\n",
              "      <th>MDVP:Shimmer</th>\n",
              "      <th>MDVP:Shimmer(dB)</th>\n",
              "      <th>Shimmer:APQ3</th>\n",
              "      <th>Shimmer:APQ5</th>\n",
              "      <th>MDVP:APQ</th>\n",
              "      <th>Shimmer:DDA</th>\n",
              "      <th>NHR</th>\n",
              "      <th>HNR</th>\n",
              "      <th>status</th>\n",
              "      <th>RPDE</th>\n",
              "      <th>DFA</th>\n",
              "      <th>spread1</th>\n",
              "      <th>spread2</th>\n",
              "      <th>D2</th>\n",
              "      <th>PPE</th>\n",
              "    </tr>\n",
              "  </thead>\n",
              "  <tbody>\n",
              "    <tr>\n",
              "      <th>MDVP:Fo(Hz)</th>\n",
              "      <td>1.000000</td>\n",
              "      <td>0.400985</td>\n",
              "      <td>0.596546</td>\n",
              "      <td>-0.118003</td>\n",
              "      <td>-0.382027</td>\n",
              "      <td>-0.076194</td>\n",
              "      <td>-0.112165</td>\n",
              "      <td>-0.076213</td>\n",
              "      <td>-0.098374</td>\n",
              "      <td>-0.073742</td>\n",
              "      <td>-0.094717</td>\n",
              "      <td>-0.070682</td>\n",
              "      <td>-0.077774</td>\n",
              "      <td>-0.094732</td>\n",
              "      <td>-0.021981</td>\n",
              "      <td>0.059144</td>\n",
              "      <td>-0.383535</td>\n",
              "      <td>-0.383894</td>\n",
              "      <td>-0.446013</td>\n",
              "      <td>-0.413738</td>\n",
              "      <td>-0.249450</td>\n",
              "      <td>0.177980</td>\n",
              "      <td>-0.372356</td>\n",
              "    </tr>\n",
              "    <tr>\n",
              "      <th>MDVP:Fhi(Hz)</th>\n",
              "      <td>0.400985</td>\n",
              "      <td>1.000000</td>\n",
              "      <td>0.084951</td>\n",
              "      <td>0.102086</td>\n",
              "      <td>-0.029198</td>\n",
              "      <td>0.097177</td>\n",
              "      <td>0.091126</td>\n",
              "      <td>0.097150</td>\n",
              "      <td>0.002281</td>\n",
              "      <td>0.043465</td>\n",
              "      <td>-0.003743</td>\n",
              "      <td>-0.009997</td>\n",
              "      <td>0.004937</td>\n",
              "      <td>-0.003733</td>\n",
              "      <td>0.163766</td>\n",
              "      <td>-0.024893</td>\n",
              "      <td>-0.166136</td>\n",
              "      <td>-0.112404</td>\n",
              "      <td>-0.343097</td>\n",
              "      <td>-0.076658</td>\n",
              "      <td>-0.002954</td>\n",
              "      <td>0.176323</td>\n",
              "      <td>-0.069543</td>\n",
              "    </tr>\n",
              "    <tr>\n",
              "      <th>MDVP:Flo(Hz)</th>\n",
              "      <td>0.596546</td>\n",
              "      <td>0.084951</td>\n",
              "      <td>1.000000</td>\n",
              "      <td>-0.139919</td>\n",
              "      <td>-0.277815</td>\n",
              "      <td>-0.100519</td>\n",
              "      <td>-0.095828</td>\n",
              "      <td>-0.100488</td>\n",
              "      <td>-0.144543</td>\n",
              "      <td>-0.119089</td>\n",
              "      <td>-0.150747</td>\n",
              "      <td>-0.101095</td>\n",
              "      <td>-0.107293</td>\n",
              "      <td>-0.150737</td>\n",
              "      <td>-0.108670</td>\n",
              "      <td>0.210851</td>\n",
              "      <td>-0.380200</td>\n",
              "      <td>-0.400143</td>\n",
              "      <td>-0.050406</td>\n",
              "      <td>-0.394857</td>\n",
              "      <td>-0.243829</td>\n",
              "      <td>-0.100629</td>\n",
              "      <td>-0.340071</td>\n",
              "    </tr>\n",
              "    <tr>\n",
              "      <th>MDVP:Jitter(%)</th>\n",
              "      <td>-0.118003</td>\n",
              "      <td>0.102086</td>\n",
              "      <td>-0.139919</td>\n",
              "      <td>1.000000</td>\n",
              "      <td>0.935714</td>\n",
              "      <td>0.990276</td>\n",
              "      <td>0.974256</td>\n",
              "      <td>0.990276</td>\n",
              "      <td>0.769063</td>\n",
              "      <td>0.804289</td>\n",
              "      <td>0.746625</td>\n",
              "      <td>0.725561</td>\n",
              "      <td>0.758255</td>\n",
              "      <td>0.746635</td>\n",
              "      <td>0.906959</td>\n",
              "      <td>-0.728165</td>\n",
              "      <td>0.278220</td>\n",
              "      <td>0.360673</td>\n",
              "      <td>0.098572</td>\n",
              "      <td>0.693577</td>\n",
              "      <td>0.385123</td>\n",
              "      <td>0.433434</td>\n",
              "      <td>0.721543</td>\n",
              "    </tr>\n",
              "    <tr>\n",
              "      <th>MDVP:Jitter(Abs)</th>\n",
              "      <td>-0.382027</td>\n",
              "      <td>-0.029198</td>\n",
              "      <td>-0.277815</td>\n",
              "      <td>0.935714</td>\n",
              "      <td>1.000000</td>\n",
              "      <td>0.922911</td>\n",
              "      <td>0.897778</td>\n",
              "      <td>0.922913</td>\n",
              "      <td>0.703322</td>\n",
              "      <td>0.716601</td>\n",
              "      <td>0.697153</td>\n",
              "      <td>0.648961</td>\n",
              "      <td>0.648793</td>\n",
              "      <td>0.697170</td>\n",
              "      <td>0.834972</td>\n",
              "      <td>-0.656810</td>\n",
              "      <td>0.338653</td>\n",
              "      <td>0.441839</td>\n",
              "      <td>0.175036</td>\n",
              "      <td>0.735779</td>\n",
              "      <td>0.388543</td>\n",
              "      <td>0.310694</td>\n",
              "      <td>0.748162</td>\n",
              "    </tr>\n",
              "    <tr>\n",
              "      <th>MDVP:RAP</th>\n",
              "      <td>-0.076194</td>\n",
              "      <td>0.097177</td>\n",
              "      <td>-0.100519</td>\n",
              "      <td>0.990276</td>\n",
              "      <td>0.922911</td>\n",
              "      <td>1.000000</td>\n",
              "      <td>0.957317</td>\n",
              "      <td>1.000000</td>\n",
              "      <td>0.759581</td>\n",
              "      <td>0.790652</td>\n",
              "      <td>0.744912</td>\n",
              "      <td>0.709927</td>\n",
              "      <td>0.737455</td>\n",
              "      <td>0.744919</td>\n",
              "      <td>0.919521</td>\n",
              "      <td>-0.721543</td>\n",
              "      <td>0.266668</td>\n",
              "      <td>0.342140</td>\n",
              "      <td>0.064083</td>\n",
              "      <td>0.648328</td>\n",
              "      <td>0.324407</td>\n",
              "      <td>0.426605</td>\n",
              "      <td>0.670999</td>\n",
              "    </tr>\n",
              "    <tr>\n",
              "      <th>MDVP:PPQ</th>\n",
              "      <td>-0.112165</td>\n",
              "      <td>0.091126</td>\n",
              "      <td>-0.095828</td>\n",
              "      <td>0.974256</td>\n",
              "      <td>0.897778</td>\n",
              "      <td>0.957317</td>\n",
              "      <td>1.000000</td>\n",
              "      <td>0.957319</td>\n",
              "      <td>0.797826</td>\n",
              "      <td>0.839239</td>\n",
              "      <td>0.763580</td>\n",
              "      <td>0.786780</td>\n",
              "      <td>0.804139</td>\n",
              "      <td>0.763592</td>\n",
              "      <td>0.844604</td>\n",
              "      <td>-0.731510</td>\n",
              "      <td>0.288698</td>\n",
              "      <td>0.333274</td>\n",
              "      <td>0.196301</td>\n",
              "      <td>0.716489</td>\n",
              "      <td>0.407605</td>\n",
              "      <td>0.412524</td>\n",
              "      <td>0.769647</td>\n",
              "    </tr>\n",
              "    <tr>\n",
              "      <th>Jitter:DDP</th>\n",
              "      <td>-0.076213</td>\n",
              "      <td>0.097150</td>\n",
              "      <td>-0.100488</td>\n",
              "      <td>0.990276</td>\n",
              "      <td>0.922913</td>\n",
              "      <td>1.000000</td>\n",
              "      <td>0.957319</td>\n",
              "      <td>1.000000</td>\n",
              "      <td>0.759555</td>\n",
              "      <td>0.790621</td>\n",
              "      <td>0.744894</td>\n",
              "      <td>0.709907</td>\n",
              "      <td>0.737439</td>\n",
              "      <td>0.744901</td>\n",
              "      <td>0.919548</td>\n",
              "      <td>-0.721494</td>\n",
              "      <td>0.266646</td>\n",
              "      <td>0.342079</td>\n",
              "      <td>0.064026</td>\n",
              "      <td>0.648328</td>\n",
              "      <td>0.324377</td>\n",
              "      <td>0.426556</td>\n",
              "      <td>0.671005</td>\n",
              "    </tr>\n",
              "    <tr>\n",
              "      <th>MDVP:Shimmer</th>\n",
              "      <td>-0.098374</td>\n",
              "      <td>0.002281</td>\n",
              "      <td>-0.144543</td>\n",
              "      <td>0.769063</td>\n",
              "      <td>0.703322</td>\n",
              "      <td>0.759581</td>\n",
              "      <td>0.797826</td>\n",
              "      <td>0.759555</td>\n",
              "      <td>1.000000</td>\n",
              "      <td>0.987258</td>\n",
              "      <td>0.987625</td>\n",
              "      <td>0.982835</td>\n",
              "      <td>0.950083</td>\n",
              "      <td>0.987626</td>\n",
              "      <td>0.722194</td>\n",
              "      <td>-0.835271</td>\n",
              "      <td>0.367430</td>\n",
              "      <td>0.447424</td>\n",
              "      <td>0.159954</td>\n",
              "      <td>0.654734</td>\n",
              "      <td>0.452025</td>\n",
              "      <td>0.507088</td>\n",
              "      <td>0.693771</td>\n",
              "    </tr>\n",
              "    <tr>\n",
              "      <th>MDVP:Shimmer(dB)</th>\n",
              "      <td>-0.073742</td>\n",
              "      <td>0.043465</td>\n",
              "      <td>-0.119089</td>\n",
              "      <td>0.804289</td>\n",
              "      <td>0.716601</td>\n",
              "      <td>0.790652</td>\n",
              "      <td>0.839239</td>\n",
              "      <td>0.790621</td>\n",
              "      <td>0.987258</td>\n",
              "      <td>1.000000</td>\n",
              "      <td>0.963198</td>\n",
              "      <td>0.973751</td>\n",
              "      <td>0.960977</td>\n",
              "      <td>0.963202</td>\n",
              "      <td>0.744477</td>\n",
              "      <td>-0.827805</td>\n",
              "      <td>0.350697</td>\n",
              "      <td>0.410684</td>\n",
              "      <td>0.165157</td>\n",
              "      <td>0.652547</td>\n",
              "      <td>0.454314</td>\n",
              "      <td>0.512233</td>\n",
              "      <td>0.695058</td>\n",
              "    </tr>\n",
              "    <tr>\n",
              "      <th>Shimmer:APQ3</th>\n",
              "      <td>-0.094717</td>\n",
              "      <td>-0.003743</td>\n",
              "      <td>-0.150747</td>\n",
              "      <td>0.746625</td>\n",
              "      <td>0.697153</td>\n",
              "      <td>0.744912</td>\n",
              "      <td>0.763580</td>\n",
              "      <td>0.744894</td>\n",
              "      <td>0.987625</td>\n",
              "      <td>0.963198</td>\n",
              "      <td>1.000000</td>\n",
              "      <td>0.960070</td>\n",
              "      <td>0.896645</td>\n",
              "      <td>1.000000</td>\n",
              "      <td>0.716207</td>\n",
              "      <td>-0.827123</td>\n",
              "      <td>0.347617</td>\n",
              "      <td>0.435242</td>\n",
              "      <td>0.151124</td>\n",
              "      <td>0.610967</td>\n",
              "      <td>0.402243</td>\n",
              "      <td>0.467265</td>\n",
              "      <td>0.645377</td>\n",
              "    </tr>\n",
              "    <tr>\n",
              "      <th>Shimmer:APQ5</th>\n",
              "      <td>-0.070682</td>\n",
              "      <td>-0.009997</td>\n",
              "      <td>-0.101095</td>\n",
              "      <td>0.725561</td>\n",
              "      <td>0.648961</td>\n",
              "      <td>0.709927</td>\n",
              "      <td>0.786780</td>\n",
              "      <td>0.709907</td>\n",
              "      <td>0.982835</td>\n",
              "      <td>0.973751</td>\n",
              "      <td>0.960070</td>\n",
              "      <td>1.000000</td>\n",
              "      <td>0.949146</td>\n",
              "      <td>0.960072</td>\n",
              "      <td>0.658080</td>\n",
              "      <td>-0.813753</td>\n",
              "      <td>0.351148</td>\n",
              "      <td>0.399903</td>\n",
              "      <td>0.213873</td>\n",
              "      <td>0.646809</td>\n",
              "      <td>0.457195</td>\n",
              "      <td>0.502174</td>\n",
              "      <td>0.702456</td>\n",
              "    </tr>\n",
              "    <tr>\n",
              "      <th>MDVP:APQ</th>\n",
              "      <td>-0.077774</td>\n",
              "      <td>0.004937</td>\n",
              "      <td>-0.107293</td>\n",
              "      <td>0.758255</td>\n",
              "      <td>0.648793</td>\n",
              "      <td>0.737455</td>\n",
              "      <td>0.804139</td>\n",
              "      <td>0.737439</td>\n",
              "      <td>0.950083</td>\n",
              "      <td>0.960977</td>\n",
              "      <td>0.896645</td>\n",
              "      <td>0.949146</td>\n",
              "      <td>1.000000</td>\n",
              "      <td>0.896647</td>\n",
              "      <td>0.694019</td>\n",
              "      <td>-0.800407</td>\n",
              "      <td>0.364316</td>\n",
              "      <td>0.451379</td>\n",
              "      <td>0.157276</td>\n",
              "      <td>0.673158</td>\n",
              "      <td>0.502188</td>\n",
              "      <td>0.536869</td>\n",
              "      <td>0.721694</td>\n",
              "    </tr>\n",
              "    <tr>\n",
              "      <th>Shimmer:DDA</th>\n",
              "      <td>-0.094732</td>\n",
              "      <td>-0.003733</td>\n",
              "      <td>-0.150737</td>\n",
              "      <td>0.746635</td>\n",
              "      <td>0.697170</td>\n",
              "      <td>0.744919</td>\n",
              "      <td>0.763592</td>\n",
              "      <td>0.744901</td>\n",
              "      <td>0.987626</td>\n",
              "      <td>0.963202</td>\n",
              "      <td>1.000000</td>\n",
              "      <td>0.960072</td>\n",
              "      <td>0.896647</td>\n",
              "      <td>1.000000</td>\n",
              "      <td>0.716215</td>\n",
              "      <td>-0.827130</td>\n",
              "      <td>0.347608</td>\n",
              "      <td>0.435237</td>\n",
              "      <td>0.151132</td>\n",
              "      <td>0.610971</td>\n",
              "      <td>0.402223</td>\n",
              "      <td>0.467261</td>\n",
              "      <td>0.645389</td>\n",
              "    </tr>\n",
              "    <tr>\n",
              "      <th>NHR</th>\n",
              "      <td>-0.021981</td>\n",
              "      <td>0.163766</td>\n",
              "      <td>-0.108670</td>\n",
              "      <td>0.906959</td>\n",
              "      <td>0.834972</td>\n",
              "      <td>0.919521</td>\n",
              "      <td>0.844604</td>\n",
              "      <td>0.919548</td>\n",
              "      <td>0.722194</td>\n",
              "      <td>0.744477</td>\n",
              "      <td>0.716207</td>\n",
              "      <td>0.658080</td>\n",
              "      <td>0.694019</td>\n",
              "      <td>0.716215</td>\n",
              "      <td>1.000000</td>\n",
              "      <td>-0.714072</td>\n",
              "      <td>0.189429</td>\n",
              "      <td>0.370890</td>\n",
              "      <td>-0.131882</td>\n",
              "      <td>0.540865</td>\n",
              "      <td>0.318099</td>\n",
              "      <td>0.470949</td>\n",
              "      <td>0.552591</td>\n",
              "    </tr>\n",
              "    <tr>\n",
              "      <th>HNR</th>\n",
              "      <td>0.059144</td>\n",
              "      <td>-0.024893</td>\n",
              "      <td>0.210851</td>\n",
              "      <td>-0.728165</td>\n",
              "      <td>-0.656810</td>\n",
              "      <td>-0.721543</td>\n",
              "      <td>-0.731510</td>\n",
              "      <td>-0.721494</td>\n",
              "      <td>-0.835271</td>\n",
              "      <td>-0.827805</td>\n",
              "      <td>-0.827123</td>\n",
              "      <td>-0.813753</td>\n",
              "      <td>-0.800407</td>\n",
              "      <td>-0.827130</td>\n",
              "      <td>-0.714072</td>\n",
              "      <td>1.000000</td>\n",
              "      <td>-0.361515</td>\n",
              "      <td>-0.598736</td>\n",
              "      <td>-0.008665</td>\n",
              "      <td>-0.673210</td>\n",
              "      <td>-0.431564</td>\n",
              "      <td>-0.601401</td>\n",
              "      <td>-0.692876</td>\n",
              "    </tr>\n",
              "    <tr>\n",
              "      <th>status</th>\n",
              "      <td>-0.383535</td>\n",
              "      <td>-0.166136</td>\n",
              "      <td>-0.380200</td>\n",
              "      <td>0.278220</td>\n",
              "      <td>0.338653</td>\n",
              "      <td>0.266668</td>\n",
              "      <td>0.288698</td>\n",
              "      <td>0.266646</td>\n",
              "      <td>0.367430</td>\n",
              "      <td>0.350697</td>\n",
              "      <td>0.347617</td>\n",
              "      <td>0.351148</td>\n",
              "      <td>0.364316</td>\n",
              "      <td>0.347608</td>\n",
              "      <td>0.189429</td>\n",
              "      <td>-0.361515</td>\n",
              "      <td>1.000000</td>\n",
              "      <td>0.308567</td>\n",
              "      <td>0.231739</td>\n",
              "      <td>0.564838</td>\n",
              "      <td>0.454842</td>\n",
              "      <td>0.340232</td>\n",
              "      <td>0.531039</td>\n",
              "    </tr>\n",
              "    <tr>\n",
              "      <th>RPDE</th>\n",
              "      <td>-0.383894</td>\n",
              "      <td>-0.112404</td>\n",
              "      <td>-0.400143</td>\n",
              "      <td>0.360673</td>\n",
              "      <td>0.441839</td>\n",
              "      <td>0.342140</td>\n",
              "      <td>0.333274</td>\n",
              "      <td>0.342079</td>\n",
              "      <td>0.447424</td>\n",
              "      <td>0.410684</td>\n",
              "      <td>0.435242</td>\n",
              "      <td>0.399903</td>\n",
              "      <td>0.451379</td>\n",
              "      <td>0.435237</td>\n",
              "      <td>0.370890</td>\n",
              "      <td>-0.598736</td>\n",
              "      <td>0.308567</td>\n",
              "      <td>1.000000</td>\n",
              "      <td>-0.110950</td>\n",
              "      <td>0.591117</td>\n",
              "      <td>0.479905</td>\n",
              "      <td>0.236931</td>\n",
              "      <td>0.545886</td>\n",
              "    </tr>\n",
              "    <tr>\n",
              "      <th>DFA</th>\n",
              "      <td>-0.446013</td>\n",
              "      <td>-0.343097</td>\n",
              "      <td>-0.050406</td>\n",
              "      <td>0.098572</td>\n",
              "      <td>0.175036</td>\n",
              "      <td>0.064083</td>\n",
              "      <td>0.196301</td>\n",
              "      <td>0.064026</td>\n",
              "      <td>0.159954</td>\n",
              "      <td>0.165157</td>\n",
              "      <td>0.151124</td>\n",
              "      <td>0.213873</td>\n",
              "      <td>0.157276</td>\n",
              "      <td>0.151132</td>\n",
              "      <td>-0.131882</td>\n",
              "      <td>-0.008665</td>\n",
              "      <td>0.231739</td>\n",
              "      <td>-0.110950</td>\n",
              "      <td>1.000000</td>\n",
              "      <td>0.195668</td>\n",
              "      <td>0.166548</td>\n",
              "      <td>-0.165381</td>\n",
              "      <td>0.270445</td>\n",
              "    </tr>\n",
              "    <tr>\n",
              "      <th>spread1</th>\n",
              "      <td>-0.413738</td>\n",
              "      <td>-0.076658</td>\n",
              "      <td>-0.394857</td>\n",
              "      <td>0.693577</td>\n",
              "      <td>0.735779</td>\n",
              "      <td>0.648328</td>\n",
              "      <td>0.716489</td>\n",
              "      <td>0.648328</td>\n",
              "      <td>0.654734</td>\n",
              "      <td>0.652547</td>\n",
              "      <td>0.610967</td>\n",
              "      <td>0.646809</td>\n",
              "      <td>0.673158</td>\n",
              "      <td>0.610971</td>\n",
              "      <td>0.540865</td>\n",
              "      <td>-0.673210</td>\n",
              "      <td>0.564838</td>\n",
              "      <td>0.591117</td>\n",
              "      <td>0.195668</td>\n",
              "      <td>1.000000</td>\n",
              "      <td>0.652358</td>\n",
              "      <td>0.495123</td>\n",
              "      <td>0.962435</td>\n",
              "    </tr>\n",
              "    <tr>\n",
              "      <th>spread2</th>\n",
              "      <td>-0.249450</td>\n",
              "      <td>-0.002954</td>\n",
              "      <td>-0.243829</td>\n",
              "      <td>0.385123</td>\n",
              "      <td>0.388543</td>\n",
              "      <td>0.324407</td>\n",
              "      <td>0.407605</td>\n",
              "      <td>0.324377</td>\n",
              "      <td>0.452025</td>\n",
              "      <td>0.454314</td>\n",
              "      <td>0.402243</td>\n",
              "      <td>0.457195</td>\n",
              "      <td>0.502188</td>\n",
              "      <td>0.402223</td>\n",
              "      <td>0.318099</td>\n",
              "      <td>-0.431564</td>\n",
              "      <td>0.454842</td>\n",
              "      <td>0.479905</td>\n",
              "      <td>0.166548</td>\n",
              "      <td>0.652358</td>\n",
              "      <td>1.000000</td>\n",
              "      <td>0.523532</td>\n",
              "      <td>0.644711</td>\n",
              "    </tr>\n",
              "    <tr>\n",
              "      <th>D2</th>\n",
              "      <td>0.177980</td>\n",
              "      <td>0.176323</td>\n",
              "      <td>-0.100629</td>\n",
              "      <td>0.433434</td>\n",
              "      <td>0.310694</td>\n",
              "      <td>0.426605</td>\n",
              "      <td>0.412524</td>\n",
              "      <td>0.426556</td>\n",
              "      <td>0.507088</td>\n",
              "      <td>0.512233</td>\n",
              "      <td>0.467265</td>\n",
              "      <td>0.502174</td>\n",
              "      <td>0.536869</td>\n",
              "      <td>0.467261</td>\n",
              "      <td>0.470949</td>\n",
              "      <td>-0.601401</td>\n",
              "      <td>0.340232</td>\n",
              "      <td>0.236931</td>\n",
              "      <td>-0.165381</td>\n",
              "      <td>0.495123</td>\n",
              "      <td>0.523532</td>\n",
              "      <td>1.000000</td>\n",
              "      <td>0.480585</td>\n",
              "    </tr>\n",
              "    <tr>\n",
              "      <th>PPE</th>\n",
              "      <td>-0.372356</td>\n",
              "      <td>-0.069543</td>\n",
              "      <td>-0.340071</td>\n",
              "      <td>0.721543</td>\n",
              "      <td>0.748162</td>\n",
              "      <td>0.670999</td>\n",
              "      <td>0.769647</td>\n",
              "      <td>0.671005</td>\n",
              "      <td>0.693771</td>\n",
              "      <td>0.695058</td>\n",
              "      <td>0.645377</td>\n",
              "      <td>0.702456</td>\n",
              "      <td>0.721694</td>\n",
              "      <td>0.645389</td>\n",
              "      <td>0.552591</td>\n",
              "      <td>-0.692876</td>\n",
              "      <td>0.531039</td>\n",
              "      <td>0.545886</td>\n",
              "      <td>0.270445</td>\n",
              "      <td>0.962435</td>\n",
              "      <td>0.644711</td>\n",
              "      <td>0.480585</td>\n",
              "      <td>1.000000</td>\n",
              "    </tr>\n",
              "  </tbody>\n",
              "</table>\n",
              "</div>"
            ],
            "text/plain": [
              "                  MDVP:Fo(Hz)  MDVP:Fhi(Hz)  ...        D2       PPE\n",
              "MDVP:Fo(Hz)          1.000000      0.400985  ...  0.177980 -0.372356\n",
              "MDVP:Fhi(Hz)         0.400985      1.000000  ...  0.176323 -0.069543\n",
              "MDVP:Flo(Hz)         0.596546      0.084951  ... -0.100629 -0.340071\n",
              "MDVP:Jitter(%)      -0.118003      0.102086  ...  0.433434  0.721543\n",
              "MDVP:Jitter(Abs)    -0.382027     -0.029198  ...  0.310694  0.748162\n",
              "MDVP:RAP            -0.076194      0.097177  ...  0.426605  0.670999\n",
              "MDVP:PPQ            -0.112165      0.091126  ...  0.412524  0.769647\n",
              "Jitter:DDP          -0.076213      0.097150  ...  0.426556  0.671005\n",
              "MDVP:Shimmer        -0.098374      0.002281  ...  0.507088  0.693771\n",
              "MDVP:Shimmer(dB)    -0.073742      0.043465  ...  0.512233  0.695058\n",
              "Shimmer:APQ3        -0.094717     -0.003743  ...  0.467265  0.645377\n",
              "Shimmer:APQ5        -0.070682     -0.009997  ...  0.502174  0.702456\n",
              "MDVP:APQ            -0.077774      0.004937  ...  0.536869  0.721694\n",
              "Shimmer:DDA         -0.094732     -0.003733  ...  0.467261  0.645389\n",
              "NHR                 -0.021981      0.163766  ...  0.470949  0.552591\n",
              "HNR                  0.059144     -0.024893  ... -0.601401 -0.692876\n",
              "status              -0.383535     -0.166136  ...  0.340232  0.531039\n",
              "RPDE                -0.383894     -0.112404  ...  0.236931  0.545886\n",
              "DFA                 -0.446013     -0.343097  ... -0.165381  0.270445\n",
              "spread1             -0.413738     -0.076658  ...  0.495123  0.962435\n",
              "spread2             -0.249450     -0.002954  ...  0.523532  0.644711\n",
              "D2                   0.177980      0.176323  ...  1.000000  0.480585\n",
              "PPE                 -0.372356     -0.069543  ...  0.480585  1.000000\n",
              "\n",
              "[23 rows x 23 columns]"
            ]
          },
          "metadata": {
            "tags": []
          },
          "execution_count": 16
        }
      ]
    },
    {
      "cell_type": "code",
      "metadata": {
        "colab": {
          "base_uri": "https://localhost:8080/"
        },
        "id": "6NJdu2TKZ1eb",
        "outputId": "2262dae0-846f-45e3-98c0-56c9710c11b1"
      },
      "source": [
        "df.corr()[\"status\"]"
      ],
      "execution_count": 17,
      "outputs": [
        {
          "output_type": "execute_result",
          "data": {
            "text/plain": [
              "MDVP:Fo(Hz)        -0.383535\n",
              "MDVP:Fhi(Hz)       -0.166136\n",
              "MDVP:Flo(Hz)       -0.380200\n",
              "MDVP:Jitter(%)      0.278220\n",
              "MDVP:Jitter(Abs)    0.338653\n",
              "MDVP:RAP            0.266668\n",
              "MDVP:PPQ            0.288698\n",
              "Jitter:DDP          0.266646\n",
              "MDVP:Shimmer        0.367430\n",
              "MDVP:Shimmer(dB)    0.350697\n",
              "Shimmer:APQ3        0.347617\n",
              "Shimmer:APQ5        0.351148\n",
              "MDVP:APQ            0.364316\n",
              "Shimmer:DDA         0.347608\n",
              "NHR                 0.189429\n",
              "HNR                -0.361515\n",
              "status              1.000000\n",
              "RPDE                0.308567\n",
              "DFA                 0.231739\n",
              "spread1             0.564838\n",
              "spread2             0.454842\n",
              "D2                  0.340232\n",
              "PPE                 0.531039\n",
              "Name: status, dtype: float64"
            ]
          },
          "metadata": {
            "tags": []
          },
          "execution_count": 17
        }
      ]
    },
    {
      "cell_type": "code",
      "metadata": {
        "id": "GVQabM3iZ5Xj"
      },
      "source": [
        "from sklearn.model_selection import train_test_split\n",
        "\n",
        "X_train, X_test, y_train, y_test = train_test_split(X, y,train_size=0.7, random_state=1)"
      ],
      "execution_count": 18,
      "outputs": []
    },
    {
      "cell_type": "code",
      "metadata": {
        "colab": {
          "base_uri": "https://localhost:8080/"
        },
        "id": "YfuqS4EVZ8dn",
        "outputId": "52a64c50-2805-423e-8bd2-bb5ad1f71109"
      },
      "source": [
        "from sklearn.tree import DecisionTreeClassifier\n",
        "dtc = DecisionTreeClassifier(criterion='entropy')\n",
        "dtc.fit(X_train,y_train)"
      ],
      "execution_count": 19,
      "outputs": [
        {
          "output_type": "execute_result",
          "data": {
            "text/plain": [
              "DecisionTreeClassifier(ccp_alpha=0.0, class_weight=None, criterion='entropy',\n",
              "                       max_depth=None, max_features=None, max_leaf_nodes=None,\n",
              "                       min_impurity_decrease=0.0, min_impurity_split=None,\n",
              "                       min_samples_leaf=1, min_samples_split=2,\n",
              "                       min_weight_fraction_leaf=0.0, presort='deprecated',\n",
              "                       random_state=None, splitter='best')"
            ]
          },
          "metadata": {
            "tags": []
          },
          "execution_count": 19
        }
      ]
    },
    {
      "cell_type": "code",
      "metadata": {
        "colab": {
          "base_uri": "https://localhost:8080/"
        },
        "id": "0gdPROMuZ_w7",
        "outputId": "0345f45b-2742-4d86-ad99-2cf6ff2857f0"
      },
      "source": [
        "from sklearn.metrics import accuracy_score\n",
        "y_predict = dtc.predict(X_test)\n",
        "accuracy_score(y_test, y_predict)"
      ],
      "execution_count": 20,
      "outputs": [
        {
          "output_type": "execute_result",
          "data": {
            "text/plain": [
              "0.847457627118644"
            ]
          },
          "metadata": {
            "tags": []
          },
          "execution_count": 20
        }
      ]
    },
    {
      "cell_type": "code",
      "metadata": {
        "colab": {
          "base_uri": "https://localhost:8080/"
        },
        "id": "OJR6mvWQaDbj",
        "outputId": "1f763edd-3b6e-40c0-d65f-a2082ac3c359"
      },
      "source": [
        "dtc2 = DecisionTreeClassifier(criterion='entropy',max_depth=5, max_leaf_nodes=3)\n",
        "dtc2.fit(X_train,y_train)"
      ],
      "execution_count": 21,
      "outputs": [
        {
          "output_type": "execute_result",
          "data": {
            "text/plain": [
              "DecisionTreeClassifier(ccp_alpha=0.0, class_weight=None, criterion='entropy',\n",
              "                       max_depth=5, max_features=None, max_leaf_nodes=3,\n",
              "                       min_impurity_decrease=0.0, min_impurity_split=None,\n",
              "                       min_samples_leaf=1, min_samples_split=2,\n",
              "                       min_weight_fraction_leaf=0.0, presort='deprecated',\n",
              "                       random_state=None, splitter='best')"
            ]
          },
          "metadata": {
            "tags": []
          },
          "execution_count": 21
        }
      ]
    },
    {
      "cell_type": "code",
      "metadata": {
        "colab": {
          "base_uri": "https://localhost:8080/"
        },
        "id": "lr8GNi2_aHNl",
        "outputId": "2a2055b7-92b8-41f9-e9a9-95ccef0279c7"
      },
      "source": [
        "y_predict = dtc2.predict(X_test)\n",
        "accuracy_score(y_test, y_predict)"
      ],
      "execution_count": 22,
      "outputs": [
        {
          "output_type": "execute_result",
          "data": {
            "text/plain": [
              "0.8135593220338984"
            ]
          },
          "metadata": {
            "tags": []
          },
          "execution_count": 22
        }
      ]
    },
    {
      "cell_type": "code",
      "metadata": {
        "colab": {
          "base_uri": "https://localhost:8080/"
        },
        "id": "NVU9BtbjaLJ4",
        "outputId": "b5d2972b-d79b-4ca5-88cf-7bd07851ddd6"
      },
      "source": [
        "dtc3 = DecisionTreeClassifier(criterion='entropy',max_depth=5, max_leaf_nodes=4)\n",
        "dtc3.fit(X_train,y_train)"
      ],
      "execution_count": 23,
      "outputs": [
        {
          "output_type": "execute_result",
          "data": {
            "text/plain": [
              "DecisionTreeClassifier(ccp_alpha=0.0, class_weight=None, criterion='entropy',\n",
              "                       max_depth=5, max_features=None, max_leaf_nodes=4,\n",
              "                       min_impurity_decrease=0.0, min_impurity_split=None,\n",
              "                       min_samples_leaf=1, min_samples_split=2,\n",
              "                       min_weight_fraction_leaf=0.0, presort='deprecated',\n",
              "                       random_state=None, splitter='best')"
            ]
          },
          "metadata": {
            "tags": []
          },
          "execution_count": 23
        }
      ]
    },
    {
      "cell_type": "code",
      "metadata": {
        "colab": {
          "base_uri": "https://localhost:8080/"
        },
        "id": "YY1fu51KaOPV",
        "outputId": "41a33cbb-e088-44c7-c06c-3ed825637d58"
      },
      "source": [
        "y_predict = dtc3.predict(X_test)\n",
        "accuracy_score(y_test, y_predict)"
      ],
      "execution_count": 24,
      "outputs": [
        {
          "output_type": "execute_result",
          "data": {
            "text/plain": [
              "0.8813559322033898"
            ]
          },
          "metadata": {
            "tags": []
          },
          "execution_count": 24
        }
      ]
    },
    {
      "cell_type": "code",
      "metadata": {
        "colab": {
          "base_uri": "https://localhost:8080/",
          "height": 111
        },
        "id": "7DLxnmolaRmb",
        "outputId": "befdf143-88d1-498b-b948-eeb43e970a8b"
      },
      "source": [
        "from sklearn.metrics import confusion_matrix\n",
        "\n",
        "pd.DataFrame(\n",
        "    confusion_matrix(y_test, y_predict),\n",
        "    columns=['Predicted Healthy', 'Predicted Parkinsons'],\n",
        "    index=['True Healthy', 'True Parkinsons']\n",
        ")"
      ],
      "execution_count": 25,
      "outputs": [
        {
          "output_type": "execute_result",
          "data": {
            "text/html": [
              "<div>\n",
              "<style scoped>\n",
              "    .dataframe tbody tr th:only-of-type {\n",
              "        vertical-align: middle;\n",
              "    }\n",
              "\n",
              "    .dataframe tbody tr th {\n",
              "        vertical-align: top;\n",
              "    }\n",
              "\n",
              "    .dataframe thead th {\n",
              "        text-align: right;\n",
              "    }\n",
              "</style>\n",
              "<table border=\"1\" class=\"dataframe\">\n",
              "  <thead>\n",
              "    <tr style=\"text-align: right;\">\n",
              "      <th></th>\n",
              "      <th>Predicted Healthy</th>\n",
              "      <th>Predicted Parkinsons</th>\n",
              "    </tr>\n",
              "  </thead>\n",
              "  <tbody>\n",
              "    <tr>\n",
              "      <th>True Healthy</th>\n",
              "      <td>16</td>\n",
              "      <td>3</td>\n",
              "    </tr>\n",
              "    <tr>\n",
              "      <th>True Parkinsons</th>\n",
              "      <td>4</td>\n",
              "      <td>36</td>\n",
              "    </tr>\n",
              "  </tbody>\n",
              "</table>\n",
              "</div>"
            ],
            "text/plain": [
              "                 Predicted Healthy  Predicted Parkinsons\n",
              "True Healthy                    16                     3\n",
              "True Parkinsons                  4                    36"
            ]
          },
          "metadata": {
            "tags": []
          },
          "execution_count": 25
        }
      ]
    },
    {
      "cell_type": "code",
      "metadata": {
        "id": "dsVsH3sNaUz7"
      },
      "source": [
        "from sklearn.ensemble import RandomForestClassifier\n",
        "\n",
        "random_forest = RandomForestClassifier()"
      ],
      "execution_count": 26,
      "outputs": []
    },
    {
      "cell_type": "code",
      "metadata": {
        "colab": {
          "base_uri": "https://localhost:8080/"
        },
        "id": "D8H2mPCJaZbz",
        "outputId": "cd707240-805c-4dfb-c6c3-72d46c5b2660"
      },
      "source": [
        "random_forest.fit(X_train, y_train)"
      ],
      "execution_count": 27,
      "outputs": [
        {
          "output_type": "execute_result",
          "data": {
            "text/plain": [
              "RandomForestClassifier(bootstrap=True, ccp_alpha=0.0, class_weight=None,\n",
              "                       criterion='gini', max_depth=None, max_features='auto',\n",
              "                       max_leaf_nodes=None, max_samples=None,\n",
              "                       min_impurity_decrease=0.0, min_impurity_split=None,\n",
              "                       min_samples_leaf=1, min_samples_split=2,\n",
              "                       min_weight_fraction_leaf=0.0, n_estimators=100,\n",
              "                       n_jobs=None, oob_score=False, random_state=None,\n",
              "                       verbose=0, warm_start=False)"
            ]
          },
          "metadata": {
            "tags": []
          },
          "execution_count": 27
        }
      ]
    },
    {
      "cell_type": "code",
      "metadata": {
        "colab": {
          "base_uri": "https://localhost:8080/"
        },
        "id": "nPUQdt3Madtm",
        "outputId": "115bb8db-cdd1-4854-ead6-75c209c23147"
      },
      "source": [
        "from sklearn.metrics import accuracy_score\n",
        "\n",
        "y_predict = random_forest.predict(X_test)\n",
        "accuracy_score(y_test, y_predict)"
      ],
      "execution_count": 28,
      "outputs": [
        {
          "output_type": "execute_result",
          "data": {
            "text/plain": [
              "0.847457627118644"
            ]
          },
          "metadata": {
            "tags": []
          },
          "execution_count": 28
        }
      ]
    },
    {
      "cell_type": "code",
      "metadata": {
        "colab": {
          "base_uri": "https://localhost:8080/",
          "height": 111
        },
        "id": "m_rF2B_eaheq",
        "outputId": "8b818aaf-ec5d-403e-d1cb-f4b190bd9955"
      },
      "source": [
        "from sklearn.metrics import confusion_matrix\n",
        "\n",
        "pd.DataFrame(\n",
        "    confusion_matrix(y_test, y_predict),\n",
        "    columns=['Predicted Healthy', 'Predicted Parkinsons'],\n",
        "    index=['True Healthy', 'True Parkinsons']\n",
        ")"
      ],
      "execution_count": 29,
      "outputs": [
        {
          "output_type": "execute_result",
          "data": {
            "text/html": [
              "<div>\n",
              "<style scoped>\n",
              "    .dataframe tbody tr th:only-of-type {\n",
              "        vertical-align: middle;\n",
              "    }\n",
              "\n",
              "    .dataframe tbody tr th {\n",
              "        vertical-align: top;\n",
              "    }\n",
              "\n",
              "    .dataframe thead th {\n",
              "        text-align: right;\n",
              "    }\n",
              "</style>\n",
              "<table border=\"1\" class=\"dataframe\">\n",
              "  <thead>\n",
              "    <tr style=\"text-align: right;\">\n",
              "      <th></th>\n",
              "      <th>Predicted Healthy</th>\n",
              "      <th>Predicted Parkinsons</th>\n",
              "    </tr>\n",
              "  </thead>\n",
              "  <tbody>\n",
              "    <tr>\n",
              "      <th>True Healthy</th>\n",
              "      <td>11</td>\n",
              "      <td>8</td>\n",
              "    </tr>\n",
              "    <tr>\n",
              "      <th>True Parkinsons</th>\n",
              "      <td>1</td>\n",
              "      <td>39</td>\n",
              "    </tr>\n",
              "  </tbody>\n",
              "</table>\n",
              "</div>"
            ],
            "text/plain": [
              "                 Predicted Healthy  Predicted Parkinsons\n",
              "True Healthy                    11                     8\n",
              "True Parkinsons                  1                    39"
            ]
          },
          "metadata": {
            "tags": []
          },
          "execution_count": 29
        }
      ]
    }
  ]
}